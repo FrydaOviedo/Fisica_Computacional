{
  "nbformat": 4,
  "nbformat_minor": 0,
  "metadata": {
    "kernelspec": {
      "display_name": "Python 3",
      "language": "python",
      "name": "python3"
    },
    "language_info": {
      "codemirror_mode": {
        "name": "ipython",
        "version": 2
      },
      "file_extension": ".py",
      "mimetype": "text/x-python",
      "name": "python",
      "nbconvert_exporter": "python",
      "pygments_lexer": "ipython2",
      "version": "2.7.16"
    },
    "colab": {
      "name": "Actividad2.ipynb",
      "provenance": [],
      "include_colab_link": true
    }
  },
  "cells": [
    {
      "cell_type": "markdown",
      "metadata": {
        "id": "view-in-github",
        "colab_type": "text"
      },
      "source": [
        "<a href=\"https://colab.research.google.com/github/FrydaOviedo/Fisica_Computacional/blob/main/Actividad2.ipynb\" target=\"_parent\"><img src=\"https://colab.research.google.com/assets/colab-badge.svg\" alt=\"Open In Colab\"/></a>"
      ]
    },
    {
      "cell_type": "code",
      "metadata": {
        "id": "JSEB9sx6UGZV"
      },
      "source": [
        "import numpy as np\n",
        "import matplotlib.pyplot as plt\n",
        "import math\n",
        "from math import sqrt\n",
        "from sympy.functions import ln\n",
        "import sympy as sp"
      ],
      "execution_count": null,
      "outputs": []
    },
    {
      "cell_type": "markdown",
      "metadata": {
        "id": "OQipRMGTUGZY"
      },
      "source": [
        "Ejercicio 1. Programa para calcular el área de un rectángulo: "
      ]
    },
    {
      "cell_type": "code",
      "metadata": {
        "id": "GTto_x1cUGZZ"
      },
      "source": [
        "# Se define una función de 2 variables para calcular el área.  \n",
        "def area1(x, y):\n",
        "    return x*y"
      ],
      "execution_count": null,
      "outputs": []
    },
    {
      "cell_type": "code",
      "metadata": {
        "id": "cAvyIbe-UGZa",
        "outputId": "9a6e7df5-5f1d-4340-a027-1a944a15147b"
      },
      "source": [
        "# Se solicitan los valores\n",
        "print(\"Proporciona el largo y altura del rectángulo:\")\n",
        "l = float(input())\n",
        "w = float(input())\n",
        "a1 = area1(l, w)"
      ],
      "execution_count": null,
      "outputs": [
        {
          "output_type": "stream",
          "text": [
            "Proporciona el largo y altura del rectángulo:\n",
            "2\n",
            "4\n"
          ],
          "name": "stdout"
        }
      ]
    },
    {
      "cell_type": "code",
      "metadata": {
        "id": "bSHe8EN2UGZb",
        "outputId": "824087bd-d061-4e3e-aa6a-d0c17e8a47ed"
      },
      "source": [
        "# Imprime el valor del área en formato libre.\n",
        "print(\"Area = \", a1)\n",
        "# Imprime el valor del área con 2 decimales. \n",
        "print(\"Area = {:.2f}\".format(a1))"
      ],
      "execution_count": null,
      "outputs": [
        {
          "output_type": "stream",
          "text": [
            "('Area = ', 8.0)\n",
            "Area = 8.00\n"
          ],
          "name": "stdout"
        }
      ]
    },
    {
      "cell_type": "markdown",
      "metadata": {
        "id": "hFXGgJKiUGZc"
      },
      "source": [
        "Ejercicio 1.1. Programa para calcular el área de un circulo:"
      ]
    },
    {
      "cell_type": "code",
      "metadata": {
        "id": "8Gb5Lc0uUGZc"
      },
      "source": [
        "# Se define una función para calcular el área.  \n",
        "def area2(r):\n",
        "    return np.pi*(r**2)"
      ],
      "execution_count": null,
      "outputs": []
    },
    {
      "cell_type": "code",
      "metadata": {
        "id": "6nVQuyrlUGZd",
        "outputId": "3874a348-3bbb-40c7-8285-40486154c2bc"
      },
      "source": [
        "print(\"Proporciona el radio del ciruclo \")\n",
        "r = float(input())\n",
        "a2 = area2(r)"
      ],
      "execution_count": null,
      "outputs": [
        {
          "output_type": "stream",
          "text": [
            "Proporciona el radio del ciruclo \n",
            "3\n"
          ],
          "name": "stdout"
        }
      ]
    },
    {
      "cell_type": "code",
      "metadata": {
        "id": "K63EahaRUGZd",
        "outputId": "975839de-bbeb-43d5-a61f-0879b2bbb5fe"
      },
      "source": [
        "# Imprime el valor del área en formato libre.\n",
        "print(\"Area = \") \n",
        "print(a2)\n",
        "# Imprime el valor del área con 2 decimales. \n",
        "print(\"Area = {:.2f}\".format(a2))"
      ],
      "execution_count": null,
      "outputs": [
        {
          "output_type": "stream",
          "text": [
            "Area = \n",
            "28.2743338823\n",
            "Area = 28.27\n"
          ],
          "name": "stdout"
        }
      ]
    },
    {
      "cell_type": "markdown",
      "metadata": {
        "id": "dxDAJSBxUGZe"
      },
      "source": [
        "Ejercicio 1.2. Programa para calcular el área de una elipse:"
      ]
    },
    {
      "cell_type": "code",
      "metadata": {
        "id": "fW6FZ0wDUGZe"
      },
      "source": [
        "# Se define una función para calcular el área.  \n",
        "def area3(a,b):\n",
        "    return np.pi*a*b"
      ],
      "execution_count": null,
      "outputs": []
    },
    {
      "cell_type": "code",
      "metadata": {
        "id": "opPHyMV3UGZf",
        "outputId": "53c2117c-3261-4d39-8b67-61933b0e8fa3"
      },
      "source": [
        "# Se solicitan los valores\n",
        "print(\"Proporciona el radio menor y el radio mayor de la elipse:\")\n",
        "a = float(input())\n",
        "b = float(input())\n",
        "a3 = area3(a, b)"
      ],
      "execution_count": null,
      "outputs": [
        {
          "output_type": "stream",
          "text": [
            "Proporciona el radio menor y el radio mayor de la elipse:\n",
            "1\n",
            "2\n"
          ],
          "name": "stdout"
        }
      ]
    },
    {
      "cell_type": "code",
      "metadata": {
        "id": "sr7PfD6uUGZf",
        "outputId": "250742c1-f4bb-442b-da6e-751b439b2b2b"
      },
      "source": [
        "# Imprime el valor del área en formato libre.\n",
        "print(\"Area = \", a3)\n",
        "# Imprime el valor del área con 2 decimales. \n",
        "print(\"Area = {:.2f}\".format(a3))"
      ],
      "execution_count": null,
      "outputs": [
        {
          "output_type": "stream",
          "text": [
            "('Area = ', 6.283185307179586)\n",
            "Area = 6.28\n"
          ],
          "name": "stdout"
        }
      ]
    },
    {
      "cell_type": "markdown",
      "metadata": {
        "id": "su9rNHlVUGZg"
      },
      "source": [
        "Ejercicio 1.3. Programa para calcular el volumen de una esfera."
      ]
    },
    {
      "cell_type": "code",
      "metadata": {
        "id": "jZ1A1d59UGZg"
      },
      "source": [
        "# Se define una función para calcular el vol.  \n",
        "def vol1(r):\n",
        "    return (4/3)*np.pi*(r**3)"
      ],
      "execution_count": null,
      "outputs": []
    },
    {
      "cell_type": "code",
      "metadata": {
        "id": "5HPOxXH0UGZg",
        "outputId": "30a1dccb-0be8-42e4-86f4-ad74d4c3cc33"
      },
      "source": [
        "print(\"Proporciona el radio de la esfera\")\n",
        "r = float(input())\n",
        "v1 = vol1(r)"
      ],
      "execution_count": null,
      "outputs": [
        {
          "output_type": "stream",
          "text": [
            "Proporciona el radio de la esfera\n",
            "1\n"
          ],
          "name": "stdout"
        }
      ]
    },
    {
      "cell_type": "code",
      "metadata": {
        "id": "hiqA-xpgUGZg",
        "outputId": "2f91d261-8d03-40a1-b81c-ce871ee0fb45"
      },
      "source": [
        "# Imprime el valor del volumen en formato libre.\n",
        "print(\"Volumen = \") \n",
        "print(v1)\n",
        "# Imprime el valor del volumen con 2 decimales. \n",
        "print(\"Volumen = {:.2f}\".format(v1))"
      ],
      "execution_count": null,
      "outputs": [
        {
          "output_type": "stream",
          "text": [
            "Volumen = \n",
            "3.14159265359\n",
            "Volumen = 3.14\n"
          ],
          "name": "stdout"
        }
      ]
    },
    {
      "cell_type": "markdown",
      "metadata": {
        "id": "9Yon69bHUGZh"
      },
      "source": [
        "Ejercicio 1.3. Programa para calcular el volumen de un cilindro circular."
      ]
    },
    {
      "cell_type": "code",
      "metadata": {
        "id": "1-S0rVTOUGZh"
      },
      "source": [
        "# Se define una función para calcular el vol.  \n",
        "def vol2(r,h):\n",
        "    return np.pi*(r**2)*h"
      ],
      "execution_count": null,
      "outputs": []
    },
    {
      "cell_type": "code",
      "metadata": {
        "id": "YQwwPjqbUGZh",
        "outputId": "8dac85b2-f68e-4258-eec8-ba94f059c123"
      },
      "source": [
        "print(\"Proporciona el radio de la base y el valor de la altura\")\n",
        "r = float(input())\n",
        "h = float(input())\n",
        "v2 = vol2(r,h)"
      ],
      "execution_count": null,
      "outputs": [
        {
          "output_type": "stream",
          "text": [
            "Proporciona el radio de la base y el valor de la altura\n",
            "2\n",
            "4\n"
          ],
          "name": "stdout"
        }
      ]
    },
    {
      "cell_type": "code",
      "metadata": {
        "id": "L1Hus3r4UGZi",
        "outputId": "4f5ed8ef-e203-4c68-e0e6-0149fe746b1d"
      },
      "source": [
        "# Imprime el valor del volumen en formato libre.\n",
        "print(\"Volumen = \") \n",
        "print(v2)\n",
        "# Imprime el valor del volumen con 2 decimales. \n",
        "print(\"Volumen = {:.2f}\".format(v2))"
      ],
      "execution_count": null,
      "outputs": [
        {
          "output_type": "stream",
          "text": [
            "Volumen = \n",
            "50.2654824574\n",
            "Volumen = 50.27\n"
          ],
          "name": "stdout"
        }
      ]
    },
    {
      "cell_type": "markdown",
      "metadata": {
        "id": "VXr8veapUGZi"
      },
      "source": [
        "Ejercicio 2. Calculo de las raíces de una ecuación cuadrática. \n",
        "Para encontrar la solución de una ecuación cuadrática $ax^2+bx+c=0$ utilizamos la formula cuadratica: $x=(-b\\pm\\sqrt {b^2-4ac})/2a$, denominaremos b^2-4ac=det y dependiendo del valor de det sabremos si las raíces son positivas o no existen."
      ]
    },
    {
      "cell_type": "code",
      "metadata": {
        "id": "OzwfrWDUUGZi",
        "outputId": "a2945e31-ff89-4c43-d211-854a3172c1ad"
      },
      "source": [
        "print(\"El programa calculará las raíces de una ecuación cuadrática.\")\n",
        "\n",
        "# Definimos el discriminante que depende de los coeficientes de a ecuación cuadrática.\n",
        "def discriminante(a,b,c):\n",
        "    dis=(b**2)-(4*a*c)\n",
        "    return dis\n",
        "\n",
        "# Definimos las raíces, que son dependientes de los coeficientes a, b y del discriminante antes definido;\n",
        "# tomando en cuenta las dos raíces posibles (+ y -)\n",
        "\n",
        "def raices(a,b,disc):\n",
        "    raiz1=(-b+sqrt(disc))/(2*a)\n",
        "    raiz2=(-b-sqrt(disc))/(2*a)\n",
        "    return raiz1,raiz2\n",
        "\n",
        "# Registro de los valores de los coeficientes\n",
        "\n",
        "print(\"Ingrese el coeficiente a:\")\n",
        "a= float(input())\n",
        "print(\"Ingrese el coeficiente b:\")\n",
        "b= float(input())\n",
        "print(\"Ingrese el coeficiente c:\")\n",
        "c= float(input())\n",
        "\n",
        "# Para efectos prácticos agregaremos un condicionante dependiente del discriminante\n",
        "# Si el valor del discriminante es menor a 0, entonces no existen raíces positivas.\n",
        "\n",
        "disc=discriminante(a,b,c)\n",
        "if disc < 0:\n",
        "   print(\"No hay raíces positivas\")\n",
        "else:\n",
        "   print(\"Las raices son:\", raices(a,b,disc))"
      ],
      "execution_count": null,
      "outputs": [
        {
          "output_type": "stream",
          "text": [
            "El programa calculará las raíces de una ecuación cuadrática.\n",
            "Ingrese el coeficiente a:\n",
            "1\n",
            "Ingrese el coeficiente b:\n",
            "5\n",
            "Ingrese el coeficiente c:\n",
            "3\n",
            "('Las raices son:', (-0.6972243622680054, -4.302775637731995))\n"
          ],
          "name": "stdout"
        }
      ]
    },
    {
      "cell_type": "markdown",
      "metadata": {
        "id": "E7IKYq6KUGZj"
      },
      "source": [
        "Ejercicio 3. Implementar el método Babilonio (o Método de Herón), para calcular la raíz cuadrada de un número S, cuando la sucesión converja con un error menor a 0.01. Compare con el valor obtenido por el método Babilonio con el valor de la función np.sqrt(S)."
      ]
    },
    {
      "cell_type": "code",
      "metadata": {
        "scrolled": true,
        "id": "Z_H2x8f3UGZj",
        "outputId": "1ea8789b-ccb3-4f06-b0e5-2e3d19e6e3a1"
      },
      "source": [
        "print(\"El programa calcula la raíz cuadrada de cualquier número positivo\")\n",
        "\n",
        "#Solicitamos el número al que se desea sacar raíz.\n",
        "print(\"Ingresar número al que se desea sacar raíz cuadrada:\")\n",
        "s = float(input())\n",
        "\n",
        "# Se indica valor inicial en el que empezará el loop.\n",
        "xn = 1\n",
        "\n",
        "# Loop que se encargará de realizar el método de Herón.\n",
        "\n",
        "for i in range(1,10,1): \n",
        "    raiz = (1/2.)*(xn + s/xn)\n",
        "    xn = raiz\n",
        "print(\"La raiz cuadrada de\",s,\"es:\",raiz)"
      ],
      "execution_count": null,
      "outputs": [
        {
          "output_type": "stream",
          "text": [
            "El programa calcula la raíz cuadrada de cualquier número positivo\n",
            "Ingresar número al que se desea sacar raíz cuadrada:\n",
            "9\n",
            "('La raiz cuadrada de', 9.0, 'es:', 3.0)\n"
          ],
          "name": "stdout"
        }
      ]
    },
    {
      "cell_type": "markdown",
      "metadata": {
        "id": "HdKFYtz_UGZj"
      },
      "source": [
        "Ejercicio 4. Reproduce la figura que aparece inmediatamente abajo en el artículo de Wikipedia sobre Series de Taylor, que muestra la aproximación de la función $ln(1+x)$ alrededor de $x=0$."
      ]
    },
    {
      "cell_type": "code",
      "metadata": {
        "id": "mCmFcSWWUGZk",
        "outputId": "9d34ea94-116a-4d80-fffc-89e55d76aba4"
      },
      "source": [
        "# Gráfica de funciones y definiciones\n",
        "\n",
        "x = np.linspace(-1.5,1.5,100)  # arrego de 100 puntos entre -1 y 1\n",
        "\n",
        "y = np.log(x+1)      # y será también un arreglo de 100 puntos automáticamente \n",
        "\n",
        "y1 = x\n",
        "\n",
        "y2 = x**2/2\n",
        "\n",
        "y3 = x**3/3\n",
        "\n",
        "y4 = x**4/4\n",
        "\n",
        "y5 = x**5/5\n",
        "\n",
        "y6 = x**6/6\n",
        "\n",
        "y7 = x**7/7\n",
        "\n",
        "y8 = x**8/8\n",
        "\n",
        "y9 = x**9/9\n",
        "\n",
        "y10 = x**10/10\n",
        "\n",
        "y11 = x**11/11\n",
        "\n",
        "y12 = x**12/12\n",
        "\n",
        "y13 = x**13/13\n",
        "\n",
        "y14 = x**14/14\n",
        "\n",
        "y15 = x**15/15\n",
        "\n",
        "y16 = x**16/16\n",
        "\n",
        "sT4 = y1 - y2 + y3 - y4 \n",
        "\n",
        "sT7 = y1 - y2 + y3 - y4 + y5 - y6 + y7\n",
        "\n",
        "sT11 = y1 - y2 + y3 - y4 + y5 - y6 + y7 - y8 + y9 - y10 + y11\n",
        "\n",
        "sT16 = y1 - y2 + y3 - y4 + y5 - y6 + y7 - y8 + y9 - y10 + y11 - y12 + y13 - y14 + y15 - y16\n",
        "\n",
        "# Creación de la gráficas\n",
        "\n",
        "plt.subplot(111)\n",
        "\n",
        "plt.xlabel(\"X label\")\n",
        "\n",
        "plt.ylabel(\"Y label\")\n",
        "\n",
        "plt.title(\"Grafica ejercicio 4\")\n",
        "\n",
        "\n",
        "# Graficar varias funciones\n",
        "\n",
        "plt.plot(x,y, label=\"ln(1+x)\")\n",
        "\n",
        "plt.plot(x,y1, label='x')\n",
        "\n",
        "plt.plot(x,sT4, label='Serie Taylor Orden 4')\n",
        "\n",
        "plt.plot(x,sT7, label='Serie Taylor Orden 7')\n",
        "\n",
        "plt.plot(x,sT11, label='Serie Taylor Orden 11')\n",
        "\n",
        "plt.plot(x,sT16, label='Serie Taylor Orden 16')\n",
        "\n",
        "# Agregar una malla\n",
        "\n",
        "plt.grid(True)\n",
        "\n",
        "# Fijar los límites en el eje Y.\n",
        "\n",
        "plt.ylim(-2, 1.5)\n",
        "\n",
        "# Ubicación de las etiquetas de las funciones\n",
        "\n",
        "plt.legend(bbox_to_anchor=(1,1), loc=\"upper left\")\n",
        "\n",
        "plt.show()"
      ],
      "execution_count": null,
      "outputs": [
        {
          "output_type": "stream",
          "text": [
            "/home/frydaoviedo/miniconda2/lib/python2.7/site-packages/ipykernel_launcher.py:5: RuntimeWarning: invalid value encountered in log\n",
            "  \"\"\"\n"
          ],
          "name": "stderr"
        },
        {
          "output_type": "display_data",
          "data": {
            "image/png": "[encoded data removed]",
            "text/plain": [
              "<Figure size 432x288 with 1 Axes>"
            ]
          },
          "metadata": {
            "tags": [],
            "needs_background": "light"
          }
        }
      ]
    },
    {
      "cell_type": "code",
      "metadata": {
        "id": "H7eJ5baQUGZk"
      },
      "source": [
        ""
      ],
      "execution_count": null,
      "outputs": []
    }
  ]
}
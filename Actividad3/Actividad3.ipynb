{
 "cells": [
  {
   "cell_type": "code",
   "execution_count": 24,
   "metadata": {},
   "outputs": [],
   "source": [
    "import numpy as np\n",
    "import pandas as pd\n",
    "\n",
    "# Tomar datos del url en formato \"raw\"\n",
    "url = 'https://raw.githubusercontent.com/FrydaOviedo/Fisica_Computacional/main/Actividad1/Datos_diarios.txt'\n",
    "#url = 'https://github.com/FrydaOviedo/Fisica_Computacional/blob/main/Actividad1/Datos_diarios.txt'\n",
    "\n",
    "# Definimos los nombres de las columnas\n",
    "# El archivo tiene códigos ASCII extendido (Español), encoding='cp1251' Windows (Europa Occidental)\n",
    "# El separador de datos es de uno o más espacios, sep='\\s+'\n",
    "# Se brincará los primeros 19 renglones y el último, afirmamos que no nay encabezado\n",
    "# Se procesan los datos utilizando Python, engine='python' \n",
    "my_cols = ['Fecha','Precip','Evap','Tmax','Tmin',]\n",
    "df_tkt = pd.read_csv(url, names=my_cols, encoding='cp1251', sep='\\s+', header=None, skiprows=19, skipfooter=1, engine='python')"
   ]
  },
  {
   "cell_type": "code",
   "execution_count": 9,
   "metadata": {},
   "outputs": [
    {
     "name": "stdout",
     "output_type": "stream",
     "text": [
      "        Fecha Precip  Evap  Tmax  Tmin\n",
      "0  09/09/1953      0  Nulo  39.5  Nulo\n",
      "1  10/09/1953      0  Nulo    41    35\n",
      "2  11/09/1953      0  Nulo    38    26\n",
      "3  12/09/1953      0  Nulo    36    26\n",
      "4  13/09/1953      0  Nulo    35    25\n",
      "5  14/09/1953      0  Nulo    31    24\n",
      "6  15/09/1953      0  Nulo    38  24.5\n",
      "7  16/09/1953      0  Nulo  40.5    25\n",
      "8  17/09/1953      0  Nulo  38.5    26\n",
      "9  18/09/1953      0  Nulo    34    23\n",
      "            Fecha Precip  Evap Tmax Tmin\n",
      "20894  21/11/2012      0  Nulo   25   16\n",
      "20895  22/11/2012      0  Nulo   26   16\n",
      "20896  23/11/2012      0  Nulo   27   18\n",
      "20897  24/11/2012      0  Nulo   28   19\n",
      "20898  25/11/2012      0  Nulo   27   16\n",
      "20899  26/11/2012      0  Nulo   26   19\n",
      "20900  27/11/2012      0  Nulo   26   17\n",
      "20901  28/11/2012      0  Nulo   24   18\n",
      "20902  29/11/2012      0  Nulo   25   17\n",
      "20903  30/11/2012      0  Nulo   26   17\n"
     ]
    }
   ],
   "source": [
    "# Revisamos los primeros diez renglones y los últimos diez del dataframe\n",
    "print(df_tkt.head(10))\n",
    "print(df_tkt.tail(10))"
   ]
  },
  {
   "cell_type": "code",
   "execution_count": 10,
   "metadata": {},
   "outputs": [
    {
     "data": {
      "text/plain": [
       "(20904, 5)"
      ]
     },
     "execution_count": 10,
     "metadata": {},
     "output_type": "execute_result"
    }
   ],
   "source": [
    "# Revisamos las dimensiones (renglones, columnas)\n",
    "df_tkt.shape"
   ]
  },
  {
   "cell_type": "code",
   "execution_count": 11,
   "metadata": {},
   "outputs": [
    {
     "name": "stdout",
     "output_type": "stream",
     "text": [
      "<class 'pandas.core.frame.DataFrame'>\n",
      "RangeIndex: 20904 entries, 0 to 20903\n",
      "Data columns (total 5 columns):\n",
      "Fecha     20904 non-null object\n",
      "Precip    20904 non-null object\n",
      "Evap      20904 non-null object\n",
      "Tmax      20904 non-null object\n",
      "Tmin      20904 non-null object\n",
      "dtypes: object(5)\n",
      "memory usage: 816.6+ KB\n"
     ]
    }
   ],
   "source": [
    "# Información del dataframe\n",
    "df_tkt.info()"
   ]
  },
  {
   "cell_type": "code",
   "execution_count": 12,
   "metadata": {},
   "outputs": [
    {
     "data": {
      "text/html": [
       "<div>\n",
       "<style scoped>\n",
       "    .dataframe tbody tr th:only-of-type {\n",
       "        vertical-align: middle;\n",
       "    }\n",
       "\n",
       "    .dataframe tbody tr th {\n",
       "        vertical-align: top;\n",
       "    }\n",
       "\n",
       "    .dataframe thead th {\n",
       "        text-align: right;\n",
       "    }\n",
       "</style>\n",
       "<table border=\"1\" class=\"dataframe\">\n",
       "  <thead>\n",
       "    <tr style=\"text-align: right;\">\n",
       "      <th></th>\n",
       "      <th>Fecha</th>\n",
       "      <th>Precip</th>\n",
       "      <th>Evap</th>\n",
       "      <th>Tmax</th>\n",
       "      <th>Tmin</th>\n",
       "    </tr>\n",
       "  </thead>\n",
       "  <tbody>\n",
       "    <tr>\n",
       "      <th>0</th>\n",
       "      <td>09/09/1953</td>\n",
       "      <td>0</td>\n",
       "      <td>Nulo</td>\n",
       "      <td>39.5</td>\n",
       "      <td>Nulo</td>\n",
       "    </tr>\n",
       "    <tr>\n",
       "      <th>1</th>\n",
       "      <td>10/09/1953</td>\n",
       "      <td>0</td>\n",
       "      <td>Nulo</td>\n",
       "      <td>41</td>\n",
       "      <td>35</td>\n",
       "    </tr>\n",
       "    <tr>\n",
       "      <th>2</th>\n",
       "      <td>11/09/1953</td>\n",
       "      <td>0</td>\n",
       "      <td>Nulo</td>\n",
       "      <td>38</td>\n",
       "      <td>26</td>\n",
       "    </tr>\n",
       "    <tr>\n",
       "      <th>3</th>\n",
       "      <td>12/09/1953</td>\n",
       "      <td>0</td>\n",
       "      <td>Nulo</td>\n",
       "      <td>36</td>\n",
       "      <td>26</td>\n",
       "    </tr>\n",
       "    <tr>\n",
       "      <th>4</th>\n",
       "      <td>13/09/1953</td>\n",
       "      <td>0</td>\n",
       "      <td>Nulo</td>\n",
       "      <td>35</td>\n",
       "      <td>25</td>\n",
       "    </tr>\n",
       "  </tbody>\n",
       "</table>\n",
       "</div>"
      ],
      "text/plain": [
       "        Fecha Precip  Evap  Tmax  Tmin\n",
       "0  09/09/1953      0  Nulo  39.5  Nulo\n",
       "1  10/09/1953      0  Nulo    41    35\n",
       "2  11/09/1953      0  Nulo    38    26\n",
       "3  12/09/1953      0  Nulo    36    26\n",
       "4  13/09/1953      0  Nulo    35    25"
      ]
     },
     "execution_count": 12,
     "metadata": {},
     "output_type": "execute_result"
    }
   ],
   "source": [
    "# Hacemos una copia de trabajo y preservamos el dataframe original\n",
    "df_tkt0 = df_tkt.copy()\n",
    "df_tkt0.head()"
   ]
  },
  {
   "cell_type": "code",
   "execution_count": 13,
   "metadata": {},
   "outputs": [
    {
     "name": "stdout",
     "output_type": "stream",
     "text": [
      "        Fecha Precip Evap  Tmax Tmin\n",
      "0  09/09/1953      0       39.5     \n",
      "1  10/09/1953      0         41   35\n",
      "2  11/09/1953      0         38   26\n",
      "3  12/09/1953      0         36   26\n",
      "4  13/09/1953      0         35   25\n",
      "            Fecha Precip  Evap Tmax Tmin\n",
      "20899  26/11/2012      0  Nulo   26   19\n",
      "20900  27/11/2012      0  Nulo   26   17\n",
      "20901  28/11/2012      0  Nulo   24   18\n",
      "20902  29/11/2012      0  Nulo   25   17\n",
      "20903  30/11/2012      0  Nulo   26   17\n"
     ]
    }
   ],
   "source": [
    "# Cambiamos la palabra nulo por un vacío y verificamos\n",
    "str_Nulo = 'Nulo'\n",
    "df_tkt1 = df_tkt0.replace(to_replace=str_Nulo, value='', regex=True)\n",
    "print(df_tkt1.head())\n",
    "print(df_tkt.tail())"
   ]
  },
  {
   "cell_type": "code",
   "execution_count": 15,
   "metadata": {},
   "outputs": [
    {
     "name": "stdout",
     "output_type": "stream",
     "text": [
      "<class 'pandas.core.frame.DataFrame'>\n",
      "RangeIndex: 20904 entries, 0 to 20903\n",
      "Data columns (total 5 columns):\n",
      "Fecha     20904 non-null object\n",
      "Precip    20856 non-null float64\n",
      "Evap      9815 non-null float64\n",
      "Tmax      20790 non-null float64\n",
      "Tmin      20801 non-null float64\n",
      "dtypes: float64(4), object(1)\n",
      "memory usage: 816.6+ KB\n"
     ]
    }
   ],
   "source": [
    "# Convertimos los valores de las variables ambientales a números flotantes y verificamos \n",
    "cols_list = ['Precip', 'Evap', 'Tmax', 'Tmin']\n",
    "for cols in cols_list:\n",
    "  df_tkt1[cols] = pd.to_numeric(df_tkt0[cols], errors='coerce')\n",
    "df_tkt1.info()"
   ]
  },
  {
   "cell_type": "code",
   "execution_count": 16,
   "metadata": {},
   "outputs": [
    {
     "data": {
      "text/plain": [
       "Fecha         0\n",
       "Precip       48\n",
       "Evap      11089\n",
       "Tmax        114\n",
       "Tmin        103\n",
       "dtype: int64"
      ]
     },
     "execution_count": 16,
     "metadata": {},
     "output_type": "execute_result"
    }
   ],
   "source": [
    "# Contabilizamos el número de datos faltantes en las variables y se suman los valores nulos\n",
    "df_tkt1.isnull().sum()"
   ]
  },
  {
   "cell_type": "code",
   "execution_count": 17,
   "metadata": {},
   "outputs": [
    {
     "name": "stdout",
     "output_type": "stream",
     "text": [
      "        Fecha  Precip  Evap  Tmax  Tmin\n",
      "0  09/09/1953     0.0   NaN  39.5   NaN\n",
      "1  10/09/1953     0.0   NaN  41.0  35.0\n",
      "2  11/09/1953     0.0   NaN  38.0  26.0\n",
      "3  12/09/1953     0.0   NaN  36.0  26.0\n",
      "4  13/09/1953     0.0   NaN  35.0  25.0\n",
      "            Fecha  Precip  Evap  Tmax  Tmin\n",
      "20899  26/11/2012     0.0   NaN  26.0  19.0\n",
      "20900  27/11/2012     0.0   NaN  26.0  17.0\n",
      "20901  28/11/2012     0.0   NaN  24.0  18.0\n",
      "20902  29/11/2012     0.0   NaN  25.0  17.0\n",
      "20903  30/11/2012     0.0   NaN  26.0  17.0\n"
     ]
    }
   ],
   "source": [
    "# Imprimimos nuevamente el encabezado y el final del dataframe\n",
    "print(df_tkt1.head())\n",
    "print(df_tkt1.tail())"
   ]
  },
  {
   "cell_type": "code",
   "execution_count": 18,
   "metadata": {},
   "outputs": [
    {
     "data": {
      "text/html": [
       "<div>\n",
       "<style scoped>\n",
       "    .dataframe tbody tr th:only-of-type {\n",
       "        vertical-align: middle;\n",
       "    }\n",
       "\n",
       "    .dataframe tbody tr th {\n",
       "        vertical-align: top;\n",
       "    }\n",
       "\n",
       "    .dataframe thead th {\n",
       "        text-align: right;\n",
       "    }\n",
       "</style>\n",
       "<table border=\"1\" class=\"dataframe\">\n",
       "  <thead>\n",
       "    <tr style=\"text-align: right;\">\n",
       "      <th></th>\n",
       "      <th>Precip</th>\n",
       "      <th>Evap</th>\n",
       "      <th>Tmax</th>\n",
       "      <th>Tmin</th>\n",
       "    </tr>\n",
       "  </thead>\n",
       "  <tbody>\n",
       "    <tr>\n",
       "      <th>count</th>\n",
       "      <td>20856.00</td>\n",
       "      <td>9815.00</td>\n",
       "      <td>20790.00</td>\n",
       "      <td>20801.00</td>\n",
       "    </tr>\n",
       "    <tr>\n",
       "      <th>mean</th>\n",
       "      <td>0.18</td>\n",
       "      <td>5.43</td>\n",
       "      <td>28.50</td>\n",
       "      <td>16.90</td>\n",
       "    </tr>\n",
       "    <tr>\n",
       "      <th>std</th>\n",
       "      <td>2.10</td>\n",
       "      <td>2.74</td>\n",
       "      <td>6.37</td>\n",
       "      <td>6.19</td>\n",
       "    </tr>\n",
       "    <tr>\n",
       "      <th>min</th>\n",
       "      <td>0.00</td>\n",
       "      <td>0.00</td>\n",
       "      <td>10.00</td>\n",
       "      <td>1.00</td>\n",
       "    </tr>\n",
       "    <tr>\n",
       "      <th>25%</th>\n",
       "      <td>0.00</td>\n",
       "      <td>3.30</td>\n",
       "      <td>23.00</td>\n",
       "      <td>12.00</td>\n",
       "    </tr>\n",
       "    <tr>\n",
       "      <th>50%</th>\n",
       "      <td>0.00</td>\n",
       "      <td>5.00</td>\n",
       "      <td>29.00</td>\n",
       "      <td>16.00</td>\n",
       "    </tr>\n",
       "    <tr>\n",
       "      <th>75%</th>\n",
       "      <td>0.00</td>\n",
       "      <td>7.30</td>\n",
       "      <td>34.00</td>\n",
       "      <td>22.00</td>\n",
       "    </tr>\n",
       "    <tr>\n",
       "      <th>max</th>\n",
       "      <td>124.00</td>\n",
       "      <td>17.80</td>\n",
       "      <td>49.00</td>\n",
       "      <td>35.00</td>\n",
       "    </tr>\n",
       "  </tbody>\n",
       "</table>\n",
       "</div>"
      ],
      "text/plain": [
       "         Precip     Evap      Tmax      Tmin\n",
       "count  20856.00  9815.00  20790.00  20801.00\n",
       "mean       0.18     5.43     28.50     16.90\n",
       "std        2.10     2.74      6.37      6.19\n",
       "min        0.00     0.00     10.00      1.00\n",
       "25%        0.00     3.30     23.00     12.00\n",
       "50%        0.00     5.00     29.00     16.00\n",
       "75%        0.00     7.30     34.00     22.00\n",
       "max      124.00    17.80     49.00     35.00"
      ]
     },
     "execution_count": 18,
     "metadata": {},
     "output_type": "execute_result"
    }
   ],
   "source": [
    "# Estádistica básica de las variables númericas con redondeo a 2 cifras significativas\n",
    "df_tkt1.describe().round(2)\n"
   ]
  },
  {
   "cell_type": "code",
   "execution_count": 19,
   "metadata": {},
   "outputs": [
    {
     "data": {
      "text/plain": [
       "0    09/09/1953\n",
       "1    10/09/1953\n",
       "2    11/09/1953\n",
       "3    12/09/1953\n",
       "4    13/09/1953\n",
       "Name: Fecha, dtype: object"
      ]
     },
     "execution_count": 19,
     "metadata": {},
     "output_type": "execute_result"
    }
   ],
   "source": [
    "# Definimos un nuevo dataframe por si hay que regresarse.\n",
    "df_tkt2 = df_tkt1.copy()\n",
    "df_tkt2['Fecha'].head()"
   ]
  },
  {
   "cell_type": "code",
   "execution_count": 20,
   "metadata": {},
   "outputs": [
    {
     "name": "stdout",
     "output_type": "stream",
     "text": [
      "       Fecha  Precip  Evap  Tmax  Tmin\n",
      "0 1953-09-09     0.0   NaN  39.5   NaN\n",
      "1 1953-09-10     0.0   NaN  41.0  35.0\n",
      "2 1953-09-11     0.0   NaN  38.0  26.0\n",
      "3 1953-09-12     0.0   NaN  36.0  26.0\n",
      "4 1953-09-13     0.0   NaN  35.0  25.0\n"
     ]
    }
   ],
   "source": [
    "# Se convierte el objeto Fecha a variable fecha que python reconoce\n",
    "df_tkt2['Fecha'] = pd.to_datetime(df_tkt2['Fecha'], dayfirst=True).copy()\n",
    "print(df_tkt2.head())\n"
   ]
  },
  {
   "cell_type": "code",
   "execution_count": 21,
   "metadata": {},
   "outputs": [
    {
     "data": {
      "text/plain": [
       "Fecha     datetime64[ns]\n",
       "Precip           float64\n",
       "Evap             float64\n",
       "Tmax             float64\n",
       "Tmin             float64\n",
       "dtype: object"
      ]
     },
     "execution_count": 21,
     "metadata": {},
     "output_type": "execute_result"
    }
   ],
   "source": [
    "# Verificamos que las variables son del tipo que las queremos\n",
    "df_tkt2.dtypes"
   ]
  },
  {
   "cell_type": "code",
   "execution_count": 22,
   "metadata": {},
   "outputs": [
    {
     "name": "stdout",
     "output_type": "stream",
     "text": [
      "       Fecha  Precip  Evap  Tmax  Tmin   Año  Mes\n",
      "0 1953-09-09     0.0   NaN  39.5   NaN  1953    9\n",
      "1 1953-09-10     0.0   NaN  41.0  35.0  1953    9\n",
      "2 1953-09-11     0.0   NaN  38.0  26.0  1953    9\n",
      "3 1953-09-12     0.0   NaN  36.0  26.0  1953    9\n",
      "4 1953-09-13     0.0   NaN  35.0  25.0  1953    9\n",
      "           Fecha  Precip  Evap  Tmax  Tmin   Año  Mes\n",
      "20899 2012-11-26     0.0   NaN  26.0  19.0  2012   11\n",
      "20900 2012-11-27     0.0   NaN  26.0  17.0  2012   11\n",
      "20901 2012-11-28     0.0   NaN  24.0  18.0  2012   11\n",
      "20902 2012-11-29     0.0   NaN  25.0  17.0  2012   11\n",
      "20903 2012-11-30     0.0   NaN  26.0  17.0  2012   11\n"
     ]
    }
   ],
   "source": [
    "# Añadimos dos columnas adicionales: df['Año'], df['Mes']\n",
    "# Usaremos la función .dt.year y .dt.month para extraer el Año y Mes de la Fecha\n",
    "df_tkt2['Año'] = df_tkt2['Fecha'].dt.year\n",
    "df_tkt2['Mes'] = df_tkt2['Fecha'].dt.month\n",
    "# Verificamos que se hayan creado de forma correcta\n",
    "# Tendremos ahora dos columnas adicionales de Año y Mes.\n",
    "print(df_tkt2.head())\n",
    "print(df_tkt2.tail())\n"
   ]
  },
  {
   "cell_type": "code",
   "execution_count": 23,
   "metadata": {},
   "outputs": [
    {
     "data": {
      "text/plain": [
       "Fecha     datetime64[ns]\n",
       "Precip           float64\n",
       "Evap             float64\n",
       "Tmax             float64\n",
       "Tmin             float64\n",
       "Año                int64\n",
       "Mes                int64\n",
       "dtype: object"
      ]
     },
     "execution_count": 23,
     "metadata": {},
     "output_type": "execute_result"
    }
   ],
   "source": [
    "# Verificamos que las variables Mes y Año son enteros\n",
    "df_tkt2.dtypes\n"
   ]
  },
  {
   "cell_type": "code",
   "execution_count": null,
   "metadata": {},
   "outputs": [],
   "source": []
  }
 ],
 "metadata": {
  "kernelspec": {
   "display_name": "Python 2",
   "language": "python",
   "name": "python2"
  },
  "language_info": {
   "codemirror_mode": {
    "name": "ipython",
    "version": 2
   },
   "file_extension": ".py",
   "mimetype": "text/x-python",
   "name": "python",
   "nbconvert_exporter": "python",
   "pygments_lexer": "ipython2",
   "version": "2.7.16"
  }
 },
 "nbformat": 4,
 "nbformat_minor": 2
}
